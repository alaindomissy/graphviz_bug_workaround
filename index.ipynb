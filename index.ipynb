{
 "cells": [
  {
   "cell_type": "code",
   "execution_count": 1,
   "metadata": {
    "collapsed": false
   },
   "outputs": [],
   "source": [
    "# !sudo apt-get install graphviz"
   ]
  },
  {
   "cell_type": "code",
   "execution_count": 3,
   "metadata": {
    "collapsed": false
   },
   "outputs": [
    {
     "name": "stdout",
     "output_type": "stream",
     "text": [
      "-I/usr/include/graphviz \r\n"
     ]
    }
   ],
   "source": [
    "!pkg-config --cflags-only-I libcgraph\n"
   ]
  },
  {
   "cell_type": "code",
   "execution_count": 4,
   "metadata": {
    "collapsed": false
   },
   "outputs": [
    {
     "name": "stdout",
     "output_type": "stream",
     "text": [
      "/usr/include/graphviz\n"
     ]
    }
   ],
   "source": [
    "cd /usr/include/graphviz"
   ]
  },
  {
   "cell_type": "code",
   "execution_count": 5,
   "metadata": {
    "collapsed": false
   },
   "outputs": [
    {
     "name": "stdout",
     "output_type": "stream",
     "text": [
      "total 196\r\n",
      "-rw-r--r-- 1 root  2110 Jan 27  2015 arith.h\r\n",
      "-rw-r--r-- 1 root 11278 Jan 27  2015 cdt.h\r\n",
      "-rw-r--r-- 1 root 16980 Jan 27  2015 cgraph.h\r\n",
      "-rw-r--r-- 1 root  1362 Jan 27  2015 color.h\r\n",
      "-rw-r--r-- 1 root  3260 Jan 27  2015 geom.h\r\n",
      "drwxr-xr-x 2 root  4096 May  4 12:17 \u001b[0m\u001b[01;34mgraphviz\u001b[0m/\r\n",
      "-rw-r--r-- 1 root   284 Jan 27  2015 graphviz_version.h\r\n",
      "-rw-r--r-- 1 root  2623 Jan 27  2015 gvcext.h\r\n",
      "-rw-r--r-- 1 root  4031 Jan 27  2015 gvc.h\r\n",
      "-rw-r--r-- 1 root 13085 Jan 27  2015 gvcjob.h\r\n",
      "-rw-r--r-- 1 root  1148 Jan 27  2015 gvcommon.h\r\n",
      "-rw-r--r-- 1 root   866 Jan 27  2015 gvconfig.h\r\n",
      "-rw-r--r-- 1 root 18696 Jan 27  2015 gv.cpp\r\n",
      "-rw-r--r-- 1 root  8762 Jan 27  2015 gv.i\r\n",
      "-rw-r--r-- 1 root   944 Jan 27  2015 gvplugin_device.h\r\n",
      "-rw-r--r-- 1 root  1849 Jan 27  2015 gvplugin.h\r\n",
      "-rw-r--r-- 1 root   893 Jan 27  2015 gvplugin_layout.h\r\n",
      "-rw-r--r-- 1 root  1254 Jan 27  2015 gvplugin_loadimage.h\r\n",
      "-rw-r--r-- 1 root  2244 Jan 27  2015 gvplugin_render.h\r\n",
      "-rw-r--r-- 1 root   928 Jan 27  2015 gvplugin_textlayout.h\r\n",
      "-rw-r--r-- 1 root  1833 Jan 27  2015 gvpr.h\r\n",
      "-rw-r--r-- 1 root  3424 Jan 27  2015 pack.h\r\n",
      "-rw-r--r-- 1 root  1239 Jan 27  2015 pathgeom.h\r\n",
      "-rw-r--r-- 1 root  1559 Jan 27  2015 pathplan.h\r\n",
      "-rw-r--r-- 1 root  2010 Jan 27  2015 textspan.h\r\n",
      "-rw-r--r-- 1 root 20705 Jan 27  2015 types.h\r\n",
      "-rw-r--r-- 1 root  1675 Jan 27  2015 usershape.h\r\n",
      "-rw-r--r-- 1 root  4232 Jan 27  2015 xdot.h\r\n"
     ]
    }
   ],
   "source": [
    "ll"
   ]
  },
  {
   "cell_type": "code",
   "execution_count": 6,
   "metadata": {
    "collapsed": true
   },
   "outputs": [],
   "source": [
    "# sudo mkdir graphviz"
   ]
  },
  {
   "cell_type": "code",
   "execution_count": 7,
   "metadata": {
    "collapsed": true
   },
   "outputs": [],
   "source": [
    "# sudo cp cgraph.h graphviz/"
   ]
  },
  {
   "cell_type": "code",
   "execution_count": 17,
   "metadata": {
    "collapsed": false
   },
   "outputs": [
    {
     "name": "stdout",
     "output_type": "stream",
     "text": [
      "/media/mis/GRAPHVIZ\n"
     ]
    }
   ],
   "source": [
    "cd ~/m/GRAPHVIZ"
   ]
  },
  {
   "cell_type": "code",
   "execution_count": 8,
   "metadata": {
    "collapsed": false
   },
   "outputs": [
    {
     "name": "stdout",
     "output_type": "stream",
     "text": [
      "\u001b[33mYou are using pip version 7.0.3, however version 8.1.1 is available.\r\n",
      "You should consider upgrading via the 'pip install --upgrade pip' command.\u001b[0m\r\n",
      "Requirement already satisfied (use --upgrade to upgrade): pygraphviz in /media/mis/anaconda3/envs/gv/lib/python2.7/site-packages\r\n"
     ]
    }
   ],
   "source": [
    "! pip install pygraphviz"
   ]
  },
  {
   "cell_type": "code",
   "execution_count": 10,
   "metadata": {
    "collapsed": true
   },
   "outputs": [],
   "source": [
    "import pygraphviz as pgv"
   ]
  },
  {
   "cell_type": "code",
   "execution_count": 11,
   "metadata": {
    "collapsed": false
   },
   "outputs": [
    {
     "data": {
      "text/plain": [
       "<AGraph <Swig Object of type 'Agraph_t *' at 0x7ff8df19b9f0>>"
      ]
     },
     "execution_count": 11,
     "metadata": {},
     "output_type": "execute_result"
    }
   ],
   "source": [
    "G=pgv.AGraph()\n",
    "G"
   ]
  },
  {
   "cell_type": "code",
   "execution_count": 13,
   "metadata": {
    "collapsed": false
   },
   "outputs": [
    {
     "data": {
      "text/plain": [
       "<AGraph <Swig Object of type 'Agraph_t *' at 0x7ff8df19b9f0>>"
      ]
     },
     "execution_count": 13,
     "metadata": {},
     "output_type": "execute_result"
    }
   ],
   "source": [
    "G.add_node('a')\n",
    "G.add_edge('b','c')\n",
    "G"
   ]
  },
  {
   "cell_type": "code",
   "execution_count": null,
   "metadata": {
    "collapsed": true
   },
   "outputs": [],
   "source": [
    "# example taken from graphwiz docun=mentation at :\n",
    "# https://github.com/pygraphviz/pygraphviz/blob/master/examples/simple.py"
   ]
  },
  {
   "cell_type": "code",
   "execution_count": null,
   "metadata": {
    "collapsed": true
   },
   "outputs": [],
   "source": [
    "import pygraphviz as pgv"
   ]
  },
  {
   "cell_type": "code",
   "execution_count": 15,
   "metadata": {
    "collapsed": false
   },
   "outputs": [
    {
     "data": {
      "text/plain": [
       "<AGraph <Swig Object of type 'Agraph_t *' at 0x7ff8df1bc0f0>>"
      ]
     },
     "execution_count": 15,
     "metadata": {},
     "output_type": "execute_result"
    }
   ],
   "source": [
    "A = pgv.AGraph()\n",
    "\n",
    "A.add_edge(1,2)\n",
    "A.add_edge(2,3)\n",
    "A.add_edge(1,3)\n",
    "A"
   ]
  },
  {
   "cell_type": "code",
   "execution_count": 19,
   "metadata": {
    "collapsed": false
   },
   "outputs": [
    {
     "name": "stdout",
     "output_type": "stream",
     "text": [
      "strict graph {\n",
      "\t1 -- 2;\n",
      "\t1 -- 3;\n",
      "\t2 -- 3;\n",
      "}\n",
      "\n",
      "Wrote simple.dot\n"
     ]
    }
   ],
   "source": [
    "print(A.string()) # print to screen\n",
    "print(\"Wrote simple.dot\")"
   ]
  },
  {
   "cell_type": "code",
   "execution_count": 25,
   "metadata": {
    "collapsed": false
   },
   "outputs": [
    {
     "name": "stdout",
     "output_type": "stream",
     "text": [
      "total 52\r\n",
      "-rw-rw-r-- 1 user user   104 May  4 10:14 graph0.gv\r\n",
      "-rw-rw-r-- 1 user user 14824 May  4 11:22 graph1b.pdf\r\n",
      "-rw-rw-r-- 1 user user   189 May  4 10:26 graph1.gv\r\n",
      "-rw-rw-r-- 1 user user   152 May  4 10:39 graph2.gv\r\n",
      "-rw-rw-r-- 1 user user 11078 May  4 10:42 graph2.pdf\r\n",
      "-rw-rw-r-- 1 user user  4483 May  4 12:31 graphviz_bug_workaround.ipynb\r\n",
      "-rw-rw-r-- 1 user user    45 May  4 12:36 simple.dot\r\n"
     ]
    }
   ],
   "source": [
    "A.write('simple.dot') # write to simple.dot\n",
    "!ls -l"
   ]
  },
  {
   "cell_type": "code",
   "execution_count": 26,
   "metadata": {
    "collapsed": true
   },
   "outputs": [],
   "source": [
    "B=pgv.AGraph('simple.dot') # create a new graph from file\n",
    "B.layout() # layout with default (neato)\n",
    "B.draw('simple.png') # draw png"
   ]
  },
  {
   "cell_type": "code",
   "execution_count": 27,
   "metadata": {
    "collapsed": false
   },
   "outputs": [
    {
     "name": "stdout",
     "output_type": "stream",
     "text": [
      "Wrote simple.png\n"
     ]
    }
   ],
   "source": [
    "print(\"Wrote simple.png\")"
   ]
  },
  {
   "cell_type": "code",
   "execution_count": 28,
   "metadata": {
    "collapsed": false
   },
   "outputs": [
    {
     "name": "stdout",
     "output_type": "stream",
     "text": [
      "total 60\r\n",
      "-rw-rw-r-- 1 user user   104 May  4 10:14 graph0.gv\r\n",
      "-rw-rw-r-- 1 user user 14824 May  4 11:22 graph1b.pdf\r\n",
      "-rw-rw-r-- 1 user user   189 May  4 10:26 graph1.gv\r\n",
      "-rw-rw-r-- 1 user user   152 May  4 10:39 graph2.gv\r\n",
      "-rw-rw-r-- 1 user user 11078 May  4 10:42 graph2.pdf\r\n",
      "-rw-rw-r-- 1 user user  4483 May  4 12:31 graphviz_bug_workaround.ipynb\r\n",
      "-rw-rw-r-- 1 user user    45 May  4 12:36 simple.dot\r\n",
      "-rw-rw-r-- 1 user user  7973 May  4 12:37 simple.png\r\n"
     ]
    }
   ],
   "source": [
    "!ls -l"
   ]
  },
  {
   "cell_type": "code",
   "execution_count": 31,
   "metadata": {
    "collapsed": false
   },
   "outputs": [
    {
     "data": {
      "image/png": "[encoded data removed]",
      "text/plain": [
       "<IPython.core.display.Image object>"
      ]
     },
     "execution_count": 31,
     "metadata": {},
     "output_type": "execute_result"
    }
   ],
   "source": [
    "from IPython.display import Image\n",
    "Image(\"simple.png\")"
   ]
  },
  {
   "cell_type": "code",
   "execution_count": null,
   "metadata": {
    "collapsed": true
   },
   "outputs": [],
   "source": []
  }
 ],
 "metadata": {
  "kernelspec": {
   "display_name": "Python 2",
   "language": "python",
   "name": "python2"
  },
  "language_info": {
   "codemirror_mode": {
    "name": "ipython",
    "version": 2
   },
   "file_extension": ".py",
   "mimetype": "text/x-python",
   "name": "python",
   "nbconvert_exporter": "python",
   "pygments_lexer": "ipython2",
   "version": "2.7.11"
  }
 },
 "nbformat": 4,
 "nbformat_minor": 0
}
