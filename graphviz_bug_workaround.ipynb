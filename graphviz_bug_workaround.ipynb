{
 "cells": [
  {
   "cell_type": "code",
   "execution_count": 1,
   "metadata": {
    "collapsed": false
   },
   "outputs": [],
   "source": [
    "# !sudo apt-get install graphviz"
   ]
  },
  {
   "cell_type": "code",
   "execution_count": 3,
   "metadata": {
    "collapsed": false
   },
   "outputs": [
    {
     "name": "stdout",
     "output_type": "stream",
     "text": [
      "-I/usr/include/graphviz \r\n"
     ]
    }
   ],
   "source": [
    "!pkg-config --cflags-only-I libcgraph\n"
   ]
  },
  {
   "cell_type": "code",
   "execution_count": 4,
   "metadata": {
    "collapsed": false
   },
   "outputs": [
    {
     "name": "stdout",
     "output_type": "stream",
     "text": [
      "/usr/include/graphviz\n"
     ]
    }
   ],
   "source": [
    "cd /usr/include/graphviz"
   ]
  },
  {
   "cell_type": "code",
   "execution_count": 5,
   "metadata": {
    "collapsed": false
   },
   "outputs": [
    {
     "name": "stdout",
     "output_type": "stream",
     "text": [
      "total 196\r\n",
      "-rw-r--r-- 1 root  2110 Jan 27  2015 arith.h\r\n",
      "-rw-r--r-- 1 root 11278 Jan 27  2015 cdt.h\r\n",
      "-rw-r--r-- 1 root 16980 Jan 27  2015 cgraph.h\r\n",
      "-rw-r--r-- 1 root  1362 Jan 27  2015 color.h\r\n",
      "-rw-r--r-- 1 root  3260 Jan 27  2015 geom.h\r\n",
      "drwxr-xr-x 2 root  4096 May  4 12:17 \u001b[0m\u001b[01;34mgraphviz\u001b[0m/\r\n",
      "-rw-r--r-- 1 root   284 Jan 27  2015 graphviz_version.h\r\n",
      "-rw-r--r-- 1 root  2623 Jan 27  2015 gvcext.h\r\n",
      "-rw-r--r-- 1 root  4031 Jan 27  2015 gvc.h\r\n",
      "-rw-r--r-- 1 root 13085 Jan 27  2015 gvcjob.h\r\n",
      "-rw-r--r-- 1 root  1148 Jan 27  2015 gvcommon.h\r\n",
      "-rw-r--r-- 1 root   866 Jan 27  2015 gvconfig.h\r\n",
      "-rw-r--r-- 1 root 18696 Jan 27  2015 gv.cpp\r\n",
      "-rw-r--r-- 1 root  8762 Jan 27  2015 gv.i\r\n",
      "-rw-r--r-- 1 root   944 Jan 27  2015 gvplugin_device.h\r\n",
      "-rw-r--r-- 1 root  1849 Jan 27  2015 gvplugin.h\r\n",
      "-rw-r--r-- 1 root   893 Jan 27  2015 gvplugin_layout.h\r\n",
      "-rw-r--r-- 1 root  1254 Jan 27  2015 gvplugin_loadimage.h\r\n",
      "-rw-r--r-- 1 root  2244 Jan 27  2015 gvplugin_render.h\r\n",
      "-rw-r--r-- 1 root   928 Jan 27  2015 gvplugin_textlayout.h\r\n",
      "-rw-r--r-- 1 root  1833 Jan 27  2015 gvpr.h\r\n",
      "-rw-r--r-- 1 root  3424 Jan 27  2015 pack.h\r\n",
      "-rw-r--r-- 1 root  1239 Jan 27  2015 pathgeom.h\r\n",
      "-rw-r--r-- 1 root  1559 Jan 27  2015 pathplan.h\r\n",
      "-rw-r--r-- 1 root  2010 Jan 27  2015 textspan.h\r\n",
      "-rw-r--r-- 1 root 20705 Jan 27  2015 types.h\r\n",
      "-rw-r--r-- 1 root  1675 Jan 27  2015 usershape.h\r\n",
      "-rw-r--r-- 1 root  4232 Jan 27  2015 xdot.h\r\n"
     ]
    }
   ],
   "source": [
    "ll"
   ]
  },
  {
   "cell_type": "code",
   "execution_count": 6,
   "metadata": {
    "collapsed": true
   },
   "outputs": [],
   "source": [
    "# sudo mkdir graphviz"
   ]
  },
  {
   "cell_type": "code",
   "execution_count": 7,
   "metadata": {
    "collapsed": true
   },
   "outputs": [],
   "source": [
    "# sudo cp cgraph.h graphviz/"
   ]
  },
  {
   "cell_type": "code",
   "execution_count": 8,
   "metadata": {
    "collapsed": false
   },
   "outputs": [
    {
     "name": "stdout",
     "output_type": "stream",
     "text": [
      "\u001b[33mYou are using pip version 7.0.3, however version 8.1.1 is available.\r\n",
      "You should consider upgrading via the 'pip install --upgrade pip' command.\u001b[0m\r\n",
      "Requirement already satisfied (use --upgrade to upgrade): pygraphviz in /media/mis/anaconda3/envs/gv/lib/python2.7/site-packages\r\n"
     ]
    }
   ],
   "source": [
    "! pip install pygraphviz\n"
   ]
  },
  {
   "cell_type": "code",
   "execution_count": 9,
   "metadata": {
    "collapsed": true
   },
   "outputs": [],
   "source": [
    "import pygraphviz"
   ]
  },
  {
   "cell_type": "code",
   "execution_count": null,
   "metadata": {
    "collapsed": true
   },
   "outputs": [],
   "source": []
  }
 ],
 "metadata": {
  "kernelspec": {
   "display_name": "Python 2",
   "language": "python",
   "name": "python2"
  },
  "language_info": {
   "codemirror_mode": {
    "name": "ipython",
    "version": 2
   },
   "file_extension": ".py",
   "mimetype": "text/x-python",
   "name": "python",
   "nbconvert_exporter": "python",
   "pygments_lexer": "ipython2",
   "version": "2.7.11"
  }
 },
 "nbformat": 4,
 "nbformat_minor": 0
}
